{
 "cells": [
  {
   "cell_type": "code",
   "execution_count": 44,
   "metadata": {},
   "outputs": [],
   "source": [
    "import matplotlib.pyplot as plt\n",
    "import numpy as np\n",
    "import math\n",
    "\n",
    "# f = open('data/retrace.csv')\n",
    "# tokens = [e.split(\",\") for e in f.readlines()]\n",
    "# x = [int(e[0]) for e in tokens]\n",
    "# y = [int(e[1]) for e in tokens]\n",
    "# handle = plt.plot(x,y)\n",
    "\n",
    "def get_trace_file(filename, I):\n",
    "    f = open(filename, 'r')\n",
    "    tokens = [[float(x) for x in e.split(\",\")] for e in f.readlines()]\n",
    "    #tokens = [token for token in tokens if I[0] <= token[0] <= I[1]]\n",
    "    #maxy = max([e[1] for e in tokens])\n",
    "    x = [e[0] for e in tokens]\n",
    "    y = [e[1] for e in tokens]\n",
    "    return (x,y)\n",
    "\n",
    "def get_detect_file(filename,I):\n",
    "    f = open(filename, 'r')\n",
    "    tokens = [[float(x) for x in e.split(\",\")] for e in f.readlines()]\n",
    "    #tokens = [token for token in tokens if I[0] <= token[0] <= I[1]]\n",
    "    x = [e[0] for e in tokens]\n",
    "    y = [e[1] for e in tokens]\n",
    "    c = ['r' if e[2] == 1 else ('g' if e[2] == 0 else 'b') for e in tokens]\n",
    "    return (x,y,c)\n",
    "\n",
    "def get_event_file(filename,I):\n",
    "    f = open(filename, 'r')\n",
    "    tokens = [[float(x) for x in e.split(\",\")] for e in f.readlines()]\n",
    "    #tokens = [token for token in tokens if I[0] <= token[0] <= I[1]]\n",
    "    tokens = [e for e in tokens if e[2] == e[2]]\n",
    "    tokens = [e for e in tokens if e[2] > 0]\n",
    "    #tokens = [e for e in tokens if abs(e[2]) > 2]\n",
    "    return tokens\n"
   ]
  },
  {
   "cell_type": "code",
   "execution_count": 45,
   "metadata": {},
   "outputs": [],
   "source": [
    "def create_trace_plot(ax,data,I,J):\n",
    "    plt.subplot(ax)\n",
    "    plt.xlim(I)\n",
    "    plt.ylim(J)\n",
    "    plt.plot(data[0],data[1])\n",
    "\n",
    "def plot_gaussian(datum):\n",
    "    mu = datum[0]\n",
    "    A = datum[1]\n",
    "    sigma = datum[2]\n",
    "    x = np.arange(mu - 100, mu + 100, 0.1)\n",
    "    y = A*np.exp(-0.5*np.square(x - mu)/(sigma*sigma))\n",
    "    plt.plot(x, y, linestyle = \"dashed\")\n",
    "\n",
    "def create_event_plot(ax,data,I,J):\n",
    "    plt.subplot(ax)\n",
    "    plt.xlim(I)\n",
    "    plt.ylim(J)\n",
    "    plt.subplot(ax)\n",
    "    for datum in data:\n",
    "        plot_gaussian(datum)\n",
    "    #plt.scatter(x1,y,marker='|',color='r')\n",
    "    #plt.scatter(x,y,marker='.',color='g')\n",
    "    #plt.scatter(x2,y,marker='|',color='b')\n",
    "\n",
    "def create_plot(I):\n",
    "    data = [get_trace_file('Saves/output_baselined.csv',I),\n",
    "            get_trace_file('Saves/output_smoothed.csv',I),\n",
    "            get_trace_file('Saves/output_diff.csv',I),\n",
    "            get_trace_file('Saves/output_cuts.csv',I),\n",
    "            get_trace_file('Saves/output_simulated.csv',I),\n",
    "            get_event_file('Saves/output_pulses.csv',I)\n",
    "    ]\n",
    "    fig = plt.figure(figsize = (14,12))\n",
    "    maxy = max(data[0][1]) + 10\n",
    "    ax = plt.subplot(2,1,1)\n",
    "    create_trace_plot(ax,data[0],I,(0,maxy))\n",
    "    create_trace_plot(ax,data[1],I,(0,maxy))\n",
    "    create_trace_plot(ax,data[2],I,(0,maxy))\n",
    "    #create_trace_plot(ax,data[2],I,(0,maxy))\n",
    "    #create_event_plot(ax,data[3],I,(0,maxy))\n",
    "\n",
    "    return fig,ax\n",
    "\n"
   ]
  },
  {
   "cell_type": "code",
   "execution_count": 46,
   "metadata": {},
   "outputs": [
    {
     "data": {
      "application/vnd.jupyter.widget-view+json": {
       "model_id": "6cf222200ece44a9a81b46a08d108919",
       "version_major": 2,
       "version_minor": 0
      },
      "text/plain": [
       "interactive(children=(IntSlider(value=5000, description='delta', max=30000, step=100), IntSlider(value=1000, d…"
      ]
     },
     "metadata": {},
     "output_type": "display_data"
    },
    {
     "data": {
      "text/plain": [
       "<function __main__.func(delta, size)>"
      ]
     },
     "execution_count": 46,
     "metadata": {},
     "output_type": "execute_result"
    }
   ],
   "source": [
    "from ipywidgets import interact, widgets\n",
    "\n",
    "def func(delta, size):\n",
    "    I = (delta,delta + size)\n",
    "    fig,ax = create_plot(I)\n",
    "\n",
    "interact(func,\n",
    "    delta = widgets.IntSlider(min=0, max=30000, step=100, value=5000),\n",
    "    size = widgets.IntSlider(min=100, max=25000, step=100, value=1000)\n",
    ")"
   ]
  },
  {
   "cell_type": "markdown",
   "metadata": {},
   "source": [
    "\\begin{align*}\n",
    "f(x) &= A\\exp(-\\frac{(x - \\mu)^2}{2\\sigma^2}) + B\n",
    "\\\\\n",
    "\\ln(f(x) - B) &= \\ln(A) - \\frac{(x - \\mu)^2}{2\\sigma^2}\n",
    "\\\\\n",
    "f'(x) &= - \\frac{x - \\mu}{\\sigma^2}(f(x) - B)\n",
    "\\\\\n",
    "f''(x) &= - \\frac{1}{\\sigma^2}(f(x) - B) - \\frac{x - \\mu}{\\sigma^2}f'(x)\n",
    "\\\\\n",
    " &= - \\frac{1}{\\sigma^2}(f(x) - B) + \\frac{(x - \\mu)^2}{\\sigma^4}(f(x) - B)\n",
    "\\\\\n",
    " &= (\\frac{(x - \\mu)^2}{\\sigma^2} - 1)\\frac{f(x) - B}{\\sigma^2}\n",
    "\\end{align*}\n"
   ]
  },
  {
   "cell_type": "markdown",
   "metadata": {},
   "source": [
    "Let $x_i,y_i,y_i'$ be defined for $i = 1,2$ such that $f(x_i) = y_i, f'(x_i) = y_i'$, then:\n",
    "\\begin{align*}\n",
    "\\ln(y_i - B) &= \\ln(A) - \\frac{(x_i - \\mu)^2}{2\\sigma^2}\n",
    "\\\\\n",
    "\\frac{y'_i}{y_i - B} &= - \\frac{x_i - \\mu}{\\sigma^2}\n",
    "\\end{align*}\n",
    "So we have:\n",
    "\\begin{align*}\n",
    "\\ln(y_1 - B) &= \\ln(A) - \\frac{(x_1 - \\mu)^2}{2\\sigma^2}\n",
    "\\\\\n",
    "\\frac{y'_1}{y_1 - B} &= - \\frac{x_1 - \\mu}{\\sigma^2}\n",
    "\\\\\n",
    "\\ln(y_2 - B) &= \\ln(A) - \\frac{(x_2 - \\mu)^2}{2\\sigma^2}\n",
    "\\\\\n",
    "\\frac{y'_2}{y_2 - B} &= - \\frac{x_2 - \\mu}{\\sigma^2}\n",
    "\\end{align*}"
   ]
  },
  {
   "cell_type": "markdown",
   "metadata": {},
   "source": [
    "These can be combined to get\n",
    "\\begin{align*}\n",
    "\\ln(y_1 - B) &= \\ln(A) - \\frac{y'_1}{y_1 - B}\\frac{x_1 - \\mu}{2}\n",
    "\\\\\n",
    "\\ln(y_2 - B) &= \\ln(A) - \\frac{y'_2}{y_2 - B}\\frac{x_2 - \\mu}{2}\n",
    "\\\\\n",
    "\\ln(y_1 - B) - \\ln(y_2 - B) &= \\frac{y'_2}{y_2 - B}\\frac{x_2 - \\mu}{2} - \\frac{y'_1}{y_1 - B}\\frac{x_1 - \\mu}{2}\n",
    "\\end{align*}"
   ]
  }
 ],
 "metadata": {
  "kernelspec": {
   "display_name": "Python 3",
   "language": "python",
   "name": "python3"
  },
  "language_info": {
   "codemirror_mode": {
    "name": "ipython",
    "version": 3
   },
   "file_extension": ".py",
   "mimetype": "text/x-python",
   "name": "python",
   "nbconvert_exporter": "python",
   "pygments_lexer": "ipython3",
   "version": "3.8.10"
  },
  "orig_nbformat": 4
 },
 "nbformat": 4,
 "nbformat_minor": 2
}

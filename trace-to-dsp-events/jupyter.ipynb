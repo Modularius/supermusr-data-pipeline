{
 "cells": [
  {
   "cell_type": "code",
   "execution_count": 1,
   "metadata": {},
   "outputs": [],
   "source": [
    "import matplotlib.pyplot as plt\n",
    "import numpy as np\n",
    "\n",
    "def plot_gaussian(datum):\n",
    "    mu = datum[0]\n",
    "    A = datum[1]\n",
    "    sigma = datum[2]\n",
    "    x = np.arange(mu - 100, mu + 100, 0.1)\n",
    "    y = A*np.exp(-0.5*np.square(x - mu)/(sigma*sigma))\n",
    "    plt.plot(x, y, linestyle = \"dashed\")\n",
    "\n",
    "def plot_bounds(datum,J):\n",
    "    datum = datum[1:]\n",
    "    start, end = datum[0], datum[1]\n",
    "    plt.plot()\n",
    "    plt.vlines([start,end],J[0]/2 + 10,J[1]/2 - 10, colors = ['red', 'black'])\n",
    "    plt.hlines(J[0]/4 + J[1]/4, start, end)\n",
    "\n",
    "def plot_biexp_curve(t, kappa, rho):\n",
    "    return np.exp(-t/kappa) - np.exp(-t/rho)\n",
    "\n",
    "def plot_biexp(datum):\n",
    "    datum = datum[1:]\n",
    "    \n",
    "    start, end = datum[0], datum[1]\n",
    "    baseline, amp, kappa, rho = datum[2], datum[3], datum[4], datum[5]\n",
    "    x = np.arange(start, end, 0.1)\n",
    "    y = amp*plot_biexp_curve(x - start, kappa, rho) + baseline\n",
    "    plt.plot(x, y, linestyle = \"dashed\")\n",
    "\n",
    "def plot_second_order_cpx(x, A,B,C, param_lambda, param_theta):\n",
    "\n",
    "    return np.exp(-x*param_lambda)*(A*np.cos(0.5*x*param_theta) + B*np.sin(0.5*x*param_theta)) + C\n",
    "\n",
    "def plot_second_order(datum):\n",
    "    datum = datum[1:]\n",
    "    start, end, _ = datum[0], datum[1], datum[2]\n",
    "    param_lambda, param_theta = datum[3], datum[4]\n",
    "    A,B,C = datum[5], datum[6], datum[7]\n",
    "    x = np.arange(start, end, 0.1)\n",
    "    y = plot_second_order_cpx(x - start, A, B, C, param_lambda, param_theta)\n",
    "    plt.plot(x,y, linestyle = \"dashed\")"
   ]
  },
  {
   "cell_type": "code",
   "execution_count": 2,
   "metadata": {},
   "outputs": [],
   "source": [
    "\n",
    "\n",
    "# f = open('data/retrace.csv')\n",
    "# tokens = [e.split(\",\") for e in f.readlines()]\n",
    "# x = [int(e[0]) for e in tokens]\n",
    "# y = [int(e[1]) for e in tokens]\n",
    "# handle = plt.plot(x,y)\n",
    "\n",
    "def get_trace_file(filename, I):\n",
    "    f = open(filename, 'r')\n",
    "    tokens = [[float(x) for x in e.split(\",\")] for e in f.readlines()]\n",
    "    #tokens = [token for token in tokens if I[0] <= token[0] <= I[1]]\n",
    "    #maxy = max([e[1] for e in tokens])\n",
    "    x = [e[0] for e in tokens]\n",
    "    y = [e[1] for e in tokens]\n",
    "    return (x,y)\n",
    "\n",
    "def get_detect_file(filename,I):\n",
    "    f = open(filename, 'r')\n",
    "    tokens = [[float(x) for x in e.split(\",\")] for e in f.readlines()]\n",
    "    #tokens = [token for token in tokens if I[0] <= token[0] <= I[1]]\n",
    "    x = [e[0] for e in tokens]\n",
    "    y = [e[1] for e in tokens]\n",
    "    c = ['r' if e[2] == 1 else ('g' if e[2] == 0 else 'b') for e in tokens]\n",
    "    return (x,y,c)\n",
    "\n",
    "def get_event_file(filename,I):\n",
    "    f = open(filename, 'r')\n",
    "    tokens = [[float(x) for x in e.split(\",\")] for e in f.readlines()]\n",
    "    return tokens\n"
   ]
  },
  {
   "cell_type": "code",
   "execution_count": 3,
   "metadata": {},
   "outputs": [],
   "source": [
    "def create_trace_plot(ax,data,I,J):\n",
    "    plt.subplot(ax)\n",
    "    plt.xlim(I)\n",
    "    #plt.ylim(J)\n",
    "    plt.plot(data[0],data[1])\n",
    "\n",
    "def create_event_plot(ax,data,I,J):\n",
    "    plt.subplot(ax)\n",
    "    plt.xlim(I)\n",
    "    plt.ylim(J)\n",
    "    plt.subplot(ax)\n",
    "    for datum in data:\n",
    "        plot_bounds(datum,J)\n",
    "        plot_second_order(datum)\n",
    "    #plt.scatter(x1,y,marker='|',color='r')\n",
    "    #plt.scatter(x,y,marker='.',color='g')\n",
    "    #plt.scatter(x2,y,marker='|',color='b')\n",
    "\n",
    "def create_plot(I):\n",
    "    data = [get_trace_file('Saves/output_baselined.csv',I),\n",
    "            get_trace_file('Saves/output_smoothed.csv',I),\n",
    "            get_trace_file('Saves/output_diff.csv',I),\n",
    "            get_trace_file('Saves/output_cuts.csv',I),\n",
    "            get_trace_file('Saves/output_simulated.csv',I),\n",
    "            get_event_file('Saves/output_pulses.csv',I)\n",
    "    ]\n",
    "    fig = plt.figure(figsize = (14,12))\n",
    "    maxy = max(data[0][1]) + 10\n",
    "    ax = plt.subplot(2,1,1)\n",
    "    create_trace_plot(ax,data[0],I,(0,maxy))\n",
    "    create_trace_plot(ax,data[1],I,(0,maxy))\n",
    "    #create_trace_plot(ax,data[2],I,(0,maxy))\n",
    "    #create_trace_plot(ax,data[2],I,(0,maxy))\n",
    "    create_event_plot(ax,data[5],I,(0,maxy))\n",
    "\n",
    "    return fig,ax\n",
    "\n"
   ]
  },
  {
   "cell_type": "code",
   "execution_count": 4,
   "metadata": {},
   "outputs": [
    {
     "data": {
      "application/vnd.jupyter.widget-view+json": {
       "model_id": "0dabf23ef9f04425816e0ca95058a468",
       "version_major": 2,
       "version_minor": 0
      },
      "text/plain": [
       "interactive(children=(IntSlider(value=5000, description='delta', max=30000, step=100), IntSlider(value=400, de…"
      ]
     },
     "metadata": {},
     "output_type": "display_data"
    },
    {
     "data": {
      "text/plain": [
       "<function __main__.func(delta, size)>"
      ]
     },
     "execution_count": 4,
     "metadata": {},
     "output_type": "execute_result"
    }
   ],
   "source": [
    "from ipywidgets import interact, widgets\n",
    "\n",
    "def func(delta, size):\n",
    "    I = (delta,delta + size)\n",
    "    fig,ax = create_plot(I)\n",
    "\n",
    "interact(func,\n",
    "    delta = widgets.IntSlider(min=0, max=30000, step=100, value=5000),\n",
    "    size = widgets.IntSlider(min=100, max=25000, step=100, value=400)\n",
    ")"
   ]
  }
 ],
 "metadata": {
  "kernelspec": {
   "display_name": "Python 3",
   "language": "python",
   "name": "python3"
  },
  "language_info": {
   "codemirror_mode": {
    "name": "ipython",
    "version": 3
   },
   "file_extension": ".py",
   "mimetype": "text/x-python",
   "name": "python",
   "nbconvert_exporter": "python",
   "pygments_lexer": "ipython3",
   "version": "3.8.10"
  },
  "orig_nbformat": 4
 },
 "nbformat": 4,
 "nbformat_minor": 2
}

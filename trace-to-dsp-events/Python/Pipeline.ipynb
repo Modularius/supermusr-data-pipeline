{
 "cells": [
  {
   "cell_type": "code",
   "execution_count": 2,
   "metadata": {},
   "outputs": [],
   "source": [
    "import os\n",
    "from kafka import KafkaConsumer, TopicPartition"
   ]
  },
  {
   "cell_type": "code",
   "execution_count": 5,
   "metadata": {},
   "outputs": [
    {
     "name": "stderr",
     "output_type": "stream",
     "text": [
      "\u001b[1m\u001b[31merror:\u001b[0m unexpected argument '\u001b[33m-C\u001b[0m' found\n",
      "\n",
      "  \u001b[32mtip:\u001b[0m to pass '\u001b[33m-C\u001b[0m' as a value, use '\u001b[32m-- -C\u001b[0m'\n",
      "\n",
      "\u001b[1m\u001b[4mUsage:\u001b[0m \u001b[1mcargo run\u001b[0m [OPTIONS] [args]...\n",
      "\n",
      "For more information, try '\u001b[1m--help\u001b[0m'.\n"
     ]
    },
    {
     "data": {
      "text/plain": [
       "256"
      ]
     },
     "execution_count": 5,
     "metadata": {},
     "output_type": "execute_result"
    }
   ],
   "source": [
    "'''\n",
    "cd ../../trace-to-dsp-events/\"\n",
    "cd ../../trace-to-dsp-events/\"\n",
    "cargo run -- --broker localhost:19092 --trace-topic Traces --event-topic Events file -n1')\n",
    "'''"
   ]
  },
  {
   "cell_type": "code",
   "execution_count": 4,
   "metadata": {},
   "outputs": [],
   "source": [
    "consumer = KafkaConsumer(\"Histograms\",\n",
    "        bootstrap_servers = ['localhost:19092'],\n",
    "        auto_offset_reset='earliest',\n",
    "        group_id = 'histogram-consumer',\n",
    "        consumer_timeout_ms = 5000,\n",
    "        api_version = (0,9,1)\n",
    "    )\n",
    "\n",
    "for message in consumer:\n",
    "    consumer.commit()\n",
    "    print(f\"{messages.topic}, {message.key}, {message.value}\")\n",
    "\n",
    "consumer.close()"
   ]
  }
 ],
 "metadata": {
  "kernelspec": {
   "display_name": "Python 3",
   "language": "python",
   "name": "python3"
  },
  "language_info": {
   "codemirror_mode": {
    "name": "ipython",
    "version": 3
   },
   "file_extension": ".py",
   "mimetype": "text/x-python",
   "name": "python",
   "nbconvert_exporter": "python",
   "pygments_lexer": "ipython3",
   "version": "3.8.10"
  }
 },
 "nbformat": 4,
 "nbformat_minor": 2
}

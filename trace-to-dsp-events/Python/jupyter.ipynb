{
 "cells": [
  {
   "cell_type": "code",
   "execution_count": 44,
   "metadata": {},
   "outputs": [],
   "source": [
    "# Imports\n",
    "import matplotlib.pyplot as plt\n",
    "from matplotlib.patches import Rectangle, Arrow\n",
    "import numpy as np\n",
    "\n",
    "# Constants\n",
    "#colors = [{1:'black', -1:'gray'},{1:'darkred', -1:'pink'}]\n",
    "colors = {0:'black', 1:'gray', 2: 'blue', -1:'pink', -2:'darkred'}"
   ]
  },
  {
   "cell_type": "code",
   "execution_count": 45,
   "metadata": {},
   "outputs": [],
   "source": [
    "# Class Definitions\n",
    "class Marker:\n",
    "    def __init__(self, type : int, subtype : int, time : int, value : int):\n",
    "        self.type = type\n",
    "        self.subtype = subtype\n",
    "        self.time = time\n",
    "        self.value = value\n",
    "\n",
    "# Class Definitions\n",
    "class PulseBound:\n",
    "    def __init__(self, start : (int,float), end : (int,float)):\n",
    "        self.start = start\n",
    "        self.end = end\n",
    "\n",
    "# Class Definitions\n",
    "class PulsePeakBound(PulseBound):\n",
    "    def __init__(self, start : (int,float), end : (int,float), peak : (int,float)):\n",
    "        super().__init__(start,end)\n",
    "        self.peak = peak\n",
    "        \n",
    "    def add_to_axis(self,ax):\n",
    "        x = self.start[0]\n",
    "        y = self.start[1]\n",
    "        x_to_peak = self.end[0] - x\n",
    "        y_to_peak = self.end[1] - y\n",
    "        arrow = Arrow(x,y,x_to_peak,y_to_peak, edgecolor = \"black\", width = 0.00001)\n",
    "        ax.add_patch(arrow)\n",
    "\n",
    "        arrow = Arrow(self.start[0], self.peak[1], self.end[0] - self.start[0], 0, edgecolor = \"red\", width = 0.00001)\n",
    "        ax.add_patch(arrow)\n",
    "\n",
    "# Class Definitions\n",
    "class PulseBasic(PulsePeakBound):\n",
    "    def __init__(self, start : (int,float), end : (int,float), peak : (int,float), steepest_rise : (int,float,float), sharpest_drop : (int,float,float)):\n",
    "        super().__init__(start,end,peak)\n",
    "        \n",
    "        self.steepest_rise = steepest_rise\n",
    "        self.sharpest_drop = sharpest_drop\n",
    "    \n",
    "    def add_to_axis(self,ax):\n",
    "        super().add_to_axis(ax)\n",
    "        x = self.steepest_rise[0]\n",
    "        y = self.steepest_rise[1]\n",
    "        width = self.sharpest_drop[0] - self.steepest_rise[0]\n",
    "        height = self.sharpest_drop[1] - self.steepest_rise[1]\n",
    "        arrow = Arrow(x, y, width, height, edgecolor = \"green\", width = 0.00001)\n",
    "        ax.add_patch(arrow)"
   ]
  },
  {
   "cell_type": "code",
   "execution_count": 46,
   "metadata": {},
   "outputs": [],
   "source": [
    "# Basic Plots\n",
    "def plot_markers(markers : [Marker], J):\n",
    "    plt.vlines([marker.time for marker in markers],J[0]/2 + 10,J[1]/2 - 10, colors = [colors[marker.type] for marker in markers])\n",
    "\n",
    "def plot_bounds(bounds : [PulseBound],J):\n",
    "    datum = datum[1:]\n",
    "    start, end = datum[0], datum[1]\n",
    "    plt.plot()\n",
    "    plt.vlines([start,end],J[0]/2 + 10,J[1]/2 - 10, colors = ['red', 'black'])\n",
    "    plt.hlines(J[0]/4 + J[1]/4, start, end)"
   ]
  },
  {
   "cell_type": "code",
   "execution_count": 47,
   "metadata": {},
   "outputs": [],
   "source": [
    "\n",
    "def plot_gaussian(datum):\n",
    "    mu = datum[0]\n",
    "    A = datum[1]\n",
    "    sigma = datum[2]\n",
    "    x = np.arange(mu - 100, mu + 100, 0.1)\n",
    "    y = A*np.exp(-0.5*np.square(x - mu)/(sigma*sigma))\n",
    "    plt.plot(x, y, linestyle = \"dashed\")\n",
    "\n",
    "def plot_biexp_curve(t, kappa, rho):\n",
    "    return np.exp(-t/kappa) - np.exp(-t/rho)\n",
    "\n",
    "def plot_biexp(datum):\n",
    "    datum = datum[1:]\n",
    "    \n",
    "    start, end = datum[0], datum[1]\n",
    "    baseline, amp, kappa, rho = datum[2], datum[3], datum[4], datum[5]\n",
    "    x = np.arange(start, end, 0.1)\n",
    "    y = amp*plot_biexp_curve(x - start, kappa, rho) + baseline\n",
    "    plt.plot(x, y, linestyle = \"dashed\")\n",
    "\n",
    "def plot_second_order_cpx(x, A,B,C, param_lambda, param_theta):\n",
    "    return np.exp(-x*param_lambda)*(A*np.cos(0.5*x*param_theta) + B*np.sin(0.5*x*param_theta)) + C\n",
    "\n",
    "def plot_second_order(datum):\n",
    "    datum = datum[1:]\n",
    "    start, end, _ = datum[0], datum[1], datum[2]\n",
    "    param_lambda, param_theta = datum[3], datum[4]\n",
    "    A,B,C = datum[5], datum[6], datum[7]\n",
    "    x = np.arange(start, end, 0.1)\n",
    "    y = plot_second_order_cpx(x - start, A, B, C, param_lambda, param_theta)\n",
    "    plt.plot(x,y, linestyle = \"dashed\")"
   ]
  },
  {
   "cell_type": "code",
   "execution_count": 48,
   "metadata": {},
   "outputs": [],
   "source": [
    "\n",
    "\n",
    "# f = open('data/retrace.csv')\n",
    "# tokens = [e.split(\",\") for e in f.readlines()]\n",
    "# x = [int(e[0]) for e in tokens]\n",
    "# y = [int(e[1]) for e in tokens]\n",
    "# handle = plt.plot(x,y)\n",
    "\n",
    "def get_trace_file(filename):\n",
    "    f = open(\"../\" + filename, 'r')\n",
    "    tokens = [[float(x) for x in e.split(\",\")] for e in f.readlines()]\n",
    "    #tokens = [token for token in tokens if I[0] <= token[0] <= I[1]]\n",
    "    #maxy = max([e[1] for e in tokens])\n",
    "    x = [e[0] for e in tokens]\n",
    "    y = [e[1] for e in tokens]\n",
    "    return (x,y)\n",
    "\n",
    "def get_detect_file(filename):\n",
    "    f = open(\"../\" + filename, 'r')\n",
    "    tokens = [[float(x) for x in e.split(\",\")] for e in f.readlines()]\n",
    "    markers = [Marker(int(token[1]),0,int(token[0]),int(token[2])) for token in tokens]\n",
    "    return markers\n",
    "\n",
    "def get_event_file(filename):\n",
    "    f = open(\"../\" + filename, 'r')\n",
    "    tokens = [[float(x) for x in e.split(\",\")] for e in f.readlines()]\n",
    "    return tokens"
   ]
  },
  {
   "cell_type": "code",
   "execution_count": 49,
   "metadata": {},
   "outputs": [],
   "source": [
    "def FileToPulseBasics(data : [[float]]) -> [PulseBasic]:\n",
    "    return [\n",
    "        PulseBasic(\n",
    "            (datum[0],datum[1]),\n",
    "            (datum[2],datum[3]),\n",
    "            (datum[4],datum[5]),\n",
    "            (datum[6],datum[7],datum[8]),\n",
    "            (datum[9],datum[10],datum[11])\n",
    "        ) for datum in data\n",
    "    ]"
   ]
  },
  {
   "cell_type": "code",
   "execution_count": 50,
   "metadata": {},
   "outputs": [],
   "source": [
    "def create_trace_plot(ax,data,I,J):\n",
    "    plt.subplot(ax)\n",
    "    plt.xlim(I)\n",
    "    #plt.ylim(J)\n",
    "    plt.plot(data[0],data[1])\n",
    "\n",
    "def create_event_plot(ax,data,I,J):\n",
    "    plt.subplot(ax)\n",
    "    plt.xlim(I)\n",
    "    plt.ylim(J)\n",
    "    plt.subplot(ax)\n",
    "    for datum in data:\n",
    "        plot_bounds(datum,J)\n",
    "        plot_second_order(datum)\n",
    "\n",
    "def create_basic_plot(ax,data,I,J):\n",
    "    plt.subplot(ax)\n",
    "    plt.xlim(I)\n",
    "    plt.ylim(J)\n",
    "    plt.subplot(ax)\n",
    "    for basic in FileToPulseBasics(data):\n",
    "        basic.add_to_axis(ax)"
   ]
  },
  {
   "cell_type": "code",
   "execution_count": 51,
   "metadata": {},
   "outputs": [],
   "source": [
    "\n",
    "def create_plot(data, I):\n",
    "    fig = plt.figure(figsize = (14,12))\n",
    "    ax = plt.subplot(2,1,1)\n",
    "    ax.patches.clear()\n",
    "    maxy = max(data[0][1])\n",
    "    miny = min(data[0][1])\n",
    "    J = (miny,maxy)\n",
    "    create_trace_plot(ax,data[0],I,J)\n",
    "    create_trace_plot(ax,data[1],I,J)\n",
    "    create_basic_plot(ax,data[2],I,J)\n",
    "\n",
    "    return fig,ax"
   ]
  },
  {
   "cell_type": "code",
   "execution_count": 52,
   "metadata": {},
   "outputs": [
    {
     "data": {
      "application/vnd.jupyter.widget-view+json": {
       "model_id": "dadcad8d2b174909926429a3cb96c225",
       "version_major": 2,
       "version_minor": 0
      },
      "text/plain": [
       "interactive(children=(IntSlider(value=3000, description='delta', max=30000, step=100), IntSlider(value=300, de…"
      ]
     },
     "metadata": {},
     "output_type": "display_data"
    },
    {
     "data": {
      "text/plain": [
       "<function __main__.func(delta, size)>"
      ]
     },
     "execution_count": 52,
     "metadata": {},
     "output_type": "execute_result"
    }
   ],
   "source": [
    "from ipywidgets import interact, widgets\n",
    "index = 0\n",
    "data = [get_trace_file(f'Saves/output{index}_baselined.csv'),\n",
    "        get_trace_file(f'Saves/output{index}_smoothed.csv'),\n",
    "        get_event_file(f'Saves/output{index}_pulses.csv')]\n",
    "\n",
    "def func(delta, size):\n",
    "    I = (delta,delta + size)\n",
    "    fig,ax = create_plot(data,I)\n",
    "\n",
    "interact(func,\n",
    "    delta = widgets.IntSlider(min=0, max=30000, step=100, value=3000),\n",
    "    size = widgets.IntSlider(min=100, max=25000, step=100, value=300)\n",
    ")"
   ]
  },
  {
   "cell_type": "code",
   "execution_count": 67,
   "metadata": {},
   "outputs": [
    {
     "data": {
      "image/png": "[encoded data removed]",
      "text/plain": [
       "<Figure size 640x480 with 1 Axes>"
      ]
     },
     "metadata": {},
     "output_type": "display_data"
    }
   ],
   "source": [
    "times = [pulse.peak[1]\n",
    "            for pulse in FileToPulseBasics(get_event_file('Saves/output_all_pulses.csv'))\n",
    "                if pulse.peak[1] > 0.3996\n",
    "        ]\n",
    "values, edges, _, = plt.hist(times, bins = 20, density = True, log = False)\n"
   ]
  },
  {
   "cell_type": "code",
   "execution_count": 77,
   "metadata": {},
   "outputs": [
    {
     "name": "stdout",
     "output_type": "stream",
     "text": [
      "[[1.52907257e-07 5.45095032e-09]\n",
      " [5.45095032e-09 2.00043645e-10]]\n",
      "[0.00441887 0.00045731]\n",
      "1.7493633287568448e-06\n"
     ]
    },
    {
     "data": {
      "text/plain": [
       "[<matplotlib.lines.Line2D at 0x7fd73bc90b50>]"
      ]
     },
     "execution_count": 77,
     "metadata": {},
     "output_type": "execute_result"
    },
    {
     "data": {
      "image/png": "[encoded data removed]",
      "text/plain": [
       "<Figure size 640x480 with 1 Axes>"
      ]
     },
     "metadata": {},
     "output_type": "display_data"
    }
   ],
   "source": [
    "times = [pulse.steepest_rise[0]\n",
    "            for pulse in FileToPulseBasics(get_event_file('Saves/output_all_pulses.csv'))\n",
    "                if pulse.start[0] > 5000\n",
    "                and pulse.peak[1] > 0.39965\n",
    "        ]\n",
    "values, edges, _, = plt.hist(times, bins = 18, density = True, log = True)\n",
    "\n",
    "from scipy.optimize import curve_fit\n",
    "def func(x, a, b):\n",
    "    return a*np.exp(-b*x)\n",
    "\n",
    "pos = np.array([(e1 + e2)/2 for (e1,e2) in zip(edges[:-1],edges[1:])])\n",
    "\n",
    "popt, pcov = curve_fit(func, pos, values, p0 = (1.0,0.0))\n",
    "print(pcov)\n",
    "print(popt)\n",
    "print(8e-10/popt[1])\n",
    "\n",
    "X = np.linspace(5000,30000)\n",
    "plt.plot(X,func(X, *popt))"
   ]
  },
  {
   "cell_type": "code",
   "execution_count": 78,
   "metadata": {},
   "outputs": [
    {
     "name": "stdout",
     "output_type": "stream",
     "text": [
      "[[8.41432957e-08 2.91003325e-09]\n",
      " [2.91003325e-09 1.03558369e-10]]\n",
      "[0.00456506 0.00046156]\n",
      "1.7332444391993233e-06\n"
     ]
    },
    {
     "data": {
      "text/plain": [
       "[<matplotlib.lines.Line2D at 0x7fd7062ea130>]"
      ]
     },
     "execution_count": 78,
     "metadata": {},
     "output_type": "execute_result"
    },
    {
     "data": {
      "image/png": "[encoded data removed]",
      "text/plain": [
       "<Figure size 640x480 with 1 Axes>"
      ]
     },
     "metadata": {},
     "output_type": "display_data"
    }
   ],
   "source": [
    "times = [pulse.start[0]\n",
    "            for pulse in FileToPulseBasics(get_event_file('Saves/output_all_pulses_simple.csv'))\n",
    "                if pulse.start[0] > 5000\n",
    "        ]\n",
    "values, edges, _, = plt.hist(times, bins = 18, density = True, log = False)\n",
    "\n",
    "from scipy.optimize import curve_fit\n",
    "def func(x, a, b):\n",
    "    return a*np.exp(-b*x)\n",
    "\n",
    "pos = np.array([(e1 + e2)/2 for (e1,e2) in zip(edges[:-1],edges[1:])])\n",
    "\n",
    "popt, pcov = curve_fit(func, pos, values, p0 = (1.0,0.0))\n",
    "print(pcov)\n",
    "print(popt)\n",
    "print(8e-10/popt[1])\n",
    "\n",
    "X = np.linspace(5000,30000)\n",
    "plt.plot(X,func(X, *popt))"
   ]
  }
 ],
 "metadata": {
  "kernelspec": {
   "display_name": "Python 3",
   "language": "python",
   "name": "python3"
  },
  "language_info": {
   "codemirror_mode": {
    "name": "ipython",
    "version": 3
   },
   "file_extension": ".py",
   "mimetype": "text/x-python",
   "name": "python",
   "nbconvert_exporter": "python",
   "pygments_lexer": "ipython3",
   "version": "3.8.10"
  },
  "orig_nbformat": 4
 },
 "nbformat": 4,
 "nbformat_minor": 2
}
